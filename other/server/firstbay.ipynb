{
 "cells": [
  {
   "cell_type": "code",
   "execution_count": 3,
   "metadata": {},
   "outputs": [
    {
     "name": "stdout",
     "output_type": "stream",
     "text": [
      "Hello, \"Orik\n",
      "\". You are s z\n"
     ]
    }
   ],
   "source": [
    "name = '\"Orik\\n\"'\n",
    "# out = \"Hello, %s. You are\" % (name)\n",
    "out = f\"Hello, {name}. You are s z\"\n",
    "print(out)"
   ]
  },
  {
   "cell_type": "code",
   "execution_count": null,
   "metadata": {},
   "outputs": [],
   "source": []
  }
 ],
 "metadata": {
  "kernelspec": {
   "display_name": "Python 3",
   "language": "python",
   "name": "python3"
  },
  "language_info": {
   "codemirror_mode": {
    "name": "ipython",
    "version": 3
   },
   "file_extension": ".py",
   "mimetype": "text/x-python",
   "name": "python",
   "nbconvert_exporter": "python",
   "pygments_lexer": "ipython3",
   "version": "3.11.3"
  },
  "orig_nbformat": 4,
  "vscode": {
   "interpreter": {
    "hash": "d215c4b10d0239f9f72e1334a6e541a70de04836fd8b82d7afa5de5ad1a064c6"
   }
  }
 },
 "nbformat": 4,
 "nbformat_minor": 2
}
