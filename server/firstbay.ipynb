{
 "cells": [
  {
   "cell_type": "code",
   "execution_count": 16,
   "metadata": {},
   "outputs": [
    {
     "name": "stdout",
     "output_type": "stream",
     "text": [
      "{'remove_tags': 2}\n"
     ]
    }
   ],
   "source": [
    "import datetime\n",
    "arr = {'id': 285, 'date_time': datetime.datetime(2022, 3, 21, 2, 38, 18), 'date_time_edit': datetime.datetime(2022, 3, 21, 2, 38, 18), 'title': None, 'description': 'asdascasd', 'tags': [{'id': 182, 'date_time': datetime.datetime(2022, 3, 21, 2, 38, 18), 'name': '787878'}]}\n",
    "olo = datetime.datetime(2022, 3, 21, 2, 38, 18)\n",
    "arr = [arr]\n",
    "kik = {}\n",
    "\n",
    "kik['remove_tags'] += 2\n",
    "# kik['remove_tags'].append(2)\n",
    "print(kik)\n",
    "# for key in arr:\n",
    "#   print(type(key))\n",
    "# print(type(arr))\n",
    "# print(isinstance(olo, datetime.datetime))"
   ]
  },
  {
   "cell_type": "code",
   "execution_count": null,
   "metadata": {},
   "outputs": [],
   "source": []
  }
 ],
 "metadata": {
  "interpreter": {
   "hash": "36af12bf9f2889bc17f22429aa2e8e622947ac27258440c3fb534953e258f0d9"
  },
  "kernelspec": {
   "display_name": "Python 3.7.7 64-bit",
   "language": "python",
   "name": "python3"
  },
  "language_info": {
   "codemirror_mode": {
    "name": "ipython",
    "version": 3
   },
   "file_extension": ".py",
   "mimetype": "text/x-python",
   "name": "python",
   "nbconvert_exporter": "python",
   "pygments_lexer": "ipython3",
   "version": "3.7.7"
  },
  "orig_nbformat": 4
 },
 "nbformat": 4,
 "nbformat_minor": 2
}
